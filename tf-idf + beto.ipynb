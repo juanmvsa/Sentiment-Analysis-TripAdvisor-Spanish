{
 "cells": [
  {
   "cell_type": "markdown",
   "metadata": {},
   "source": [
    "# 1. Load the Data"
   ]
  },
  {
   "cell_type": "code",
   "execution_count": 1,
   "metadata": {},
   "outputs": [
    {
     "data": {
      "text/html": [
       "<div>\n",
       "<style scoped>\n",
       "    .dataframe tbody tr th:only-of-type {\n",
       "        vertical-align: middle;\n",
       "    }\n",
       "\n",
       "    .dataframe tbody tr th {\n",
       "        vertical-align: top;\n",
       "    }\n",
       "\n",
       "    .dataframe thead th {\n",
       "        text-align: right;\n",
       "    }\n",
       "</style>\n",
       "<table border=\"1\" class=\"dataframe\">\n",
       "  <thead>\n",
       "    <tr style=\"text-align: right;\">\n",
       "      <th></th>\n",
       "      <th>Opinion</th>\n",
       "      <th>Labels</th>\n",
       "    </tr>\n",
       "  </thead>\n",
       "  <tbody>\n",
       "    <tr>\n",
       "      <th>0</th>\n",
       "      <td>Las momias están en muy buen estado de conserv...</td>\n",
       "      <td>0</td>\n",
       "    </tr>\n",
       "    <tr>\n",
       "      <th>1</th>\n",
       "      <td>mi grupo quedó negativamente impresionado. Al...</td>\n",
       "      <td>0</td>\n",
       "    </tr>\n",
       "    <tr>\n",
       "      <th>2</th>\n",
       "      <td>on grabadas en lo profundo de las mentes de qu...</td>\n",
       "      <td>0</td>\n",
       "    </tr>\n",
       "    <tr>\n",
       "      <th>3</th>\n",
       "      <td>s con ganas de vomitar y espantados. Absolutam...</td>\n",
       "      <td>0</td>\n",
       "    </tr>\n",
       "    <tr>\n",
       "      <th>4</th>\n",
       "      <td>do los muertos, los espantos y los entierros.....</td>\n",
       "      <td>0</td>\n",
       "    </tr>\n",
       "    <tr>\n",
       "      <th>...</th>\n",
       "      <td>...</td>\n",
       "      <td>...</td>\n",
       "    </tr>\n",
       "    <tr>\n",
       "      <th>12177</th>\n",
       "      <td>minada.</td>\n",
       "      <td>4</td>\n",
       "    </tr>\n",
       "    <tr>\n",
       "      <th>12178</th>\n",
       "      <td>Es imperdible, de ahí puedes ver muy bien la c...</td>\n",
       "      <td>4</td>\n",
       "    </tr>\n",
       "    <tr>\n",
       "      <th>12179</th>\n",
       "      <td>hace parte de la aventura montarlo porque se ...</td>\n",
       "      <td>4</td>\n",
       "    </tr>\n",
       "    <tr>\n",
       "      <th>12180</th>\n",
       "      <td>Queda detrás del Teatro Juárez. Ir allí camina...</td>\n",
       "      <td>4</td>\n",
       "    </tr>\n",
       "    <tr>\n",
       "      <th>12181</th>\n",
       "      <td>No te puedes ir de Guanajuato sin visitarlo......</td>\n",
       "      <td>4</td>\n",
       "    </tr>\n",
       "  </tbody>\n",
       "</table>\n",
       "<p>12182 rows × 2 columns</p>\n",
       "</div>"
      ],
      "text/plain": [
       "                                                 Opinion  Labels\n",
       "0      Las momias están en muy buen estado de conserv...       0\n",
       "1       mi grupo quedó negativamente impresionado. Al...       0\n",
       "2      on grabadas en lo profundo de las mentes de qu...       0\n",
       "3      s con ganas de vomitar y espantados. Absolutam...       0\n",
       "4      do los muertos, los espantos y los entierros.....       0\n",
       "...                                                  ...     ...\n",
       "12177                                            minada.       4\n",
       "12178  Es imperdible, de ahí puedes ver muy bien la c...       4\n",
       "12179   hace parte de la aventura montarlo porque se ...       4\n",
       "12180  Queda detrás del Teatro Juárez. Ir allí camina...       4\n",
       "12181  No te puedes ir de Guanajuato sin visitarlo......       4\n",
       "\n",
       "[12182 rows x 2 columns]"
      ]
     },
     "execution_count": 1,
     "metadata": {},
     "output_type": "execute_result"
    }
   ],
   "source": [
    "#Import the dataset.\n",
    "import pandas as pd\n",
    "\n",
    "df = pd.read_csv('/001/usuarios/juanmvs/anaconda3/NLP/Datos/CorpusEnsemble.csv')\n",
    "df.drop(columns=['Unnamed: 0'], inplace=True)\n",
    "df.rename(columns={'0': 'Opinion'}, inplace=True)\n",
    "df"
   ]
  },
  {
   "cell_type": "code",
   "execution_count": 18,
   "metadata": {},
   "outputs": [
    {
     "data": {
      "text/plain": [
       "4    5977\n",
       "3    3825\n",
       "2    1750\n",
       "1     413\n",
       "0     217\n",
       "Name: Labels, dtype: int64"
      ]
     },
     "execution_count": 18,
     "metadata": {},
     "output_type": "execute_result"
    }
   ],
   "source": [
    "#Check how the classes are distributed in the dataset.\n",
    "df['Labels'].value_counts()"
   ]
  },
  {
   "cell_type": "markdown",
   "metadata": {},
   "source": [
    "# 2. Get the tf-idf vector for the corpus"
   ]
  },
  {
   "cell_type": "code",
   "execution_count": 2,
   "metadata": {},
   "outputs": [],
   "source": [
    "import spacy\n",
    "\n",
    "#Load the Spanish model\n",
    "nlp = spacy.load(\"es_dep_news_trf\")"
   ]
  },
  {
   "cell_type": "code",
   "execution_count": 3,
   "metadata": {},
   "outputs": [],
   "source": [
    "#Tokenizes each word using the Spacy tokenizer.\n",
    "def my_tokenizer(sentence):\n",
    "    toks = []\n",
    "    mytokens = nlp(sentence)\n",
    "    for token in mytokens:\n",
    "        toks.append(token.text) \n",
    "    return toks"
   ]
  },
  {
   "cell_type": "code",
   "execution_count": 4,
   "metadata": {},
   "outputs": [],
   "source": [
    "#Create the object for obtaining the TF-IDF vector.\n",
    "from sklearn.feature_extraction.text import TfidfVectorizer\n",
    "\n",
    "tfidf_vector = TfidfVectorizer(tokenizer=my_tokenizer, lowercase=False)"
   ]
  },
  {
   "cell_type": "code",
   "execution_count": 5,
   "metadata": {},
   "outputs": [],
   "source": [
    "#Vectorize the dataset.\n",
    "X = tfidf_vector.fit_transform(df['Opinion'])"
   ]
  },
  {
   "cell_type": "code",
   "execution_count": 6,
   "metadata": {},
   "outputs": [
    {
     "data": {
      "text/plain": [
       "<12182x16377 sparse matrix of type '<class 'numpy.float64'>'\n",
       "\twith 221232 stored elements in Compressed Sparse Row format>"
      ]
     },
     "execution_count": 6,
     "metadata": {},
     "output_type": "execute_result"
    }
   ],
   "source": [
    "#Check the type of the object that contains the vector created by the TF-IDF.\n",
    "X"
   ]
  },
  {
   "cell_type": "code",
   "execution_count": 7,
   "metadata": {},
   "outputs": [],
   "source": [
    "#Map the sparse matrix to a dense vector.\n",
    "vector_tfidf = X.todense()"
   ]
  },
  {
   "cell_type": "code",
   "execution_count": 8,
   "metadata": {},
   "outputs": [
    {
     "data": {
      "text/plain": [
       "(12182, 16377)"
      ]
     },
     "execution_count": 8,
     "metadata": {},
     "output_type": "execute_result"
    }
   ],
   "source": [
    "#Check the size of the final vector .\n",
    "vector_tfidf.shape"
   ]
  },
  {
   "cell_type": "markdown",
   "metadata": {},
   "source": [
    "# 3. BETO embeddings"
   ]
  },
  {
   "cell_type": "code",
   "execution_count": 2,
   "metadata": {},
   "outputs": [],
   "source": [
    "#Connect to the GPU.\n",
    "import os\n",
    "os.environ[\"CUDA_DEVICE_ORDER\"]=\"PCI_BUS_ID\"\n",
    "os.environ[\"CUDA_VISIBLE_DEVICES\"]= \"2\""
   ]
  },
  {
   "cell_type": "code",
   "execution_count": 3,
   "metadata": {},
   "outputs": [
    {
     "name": "stdout",
     "output_type": "stream",
     "text": [
      "There are 1 GPU(s) available.\n",
      "We will use the GPU: Tesla V100-SXM2-32GB\n"
     ]
    }
   ],
   "source": [
    "import torch\n",
    "import tensorflow as tf\n",
    "\n",
    "if torch.cuda.is_available():    \n",
    "\n",
    "    #Tell PyTorch to use the GPU.    \n",
    "    device = torch.device(\"cuda\")\n",
    "\n",
    "    print('There are %d GPU(s) available.' % torch.cuda.device_count())\n",
    "    print('We will use the GPU:', torch.cuda.get_device_name(0))\n",
    "else:\n",
    "    print('No GPU available, using the CPU instead.')\n",
    "\n",
    "    device = torch.device(\"cpu\")"
   ]
  },
  {
   "cell_type": "code",
   "execution_count": 4,
   "metadata": {},
   "outputs": [
    {
     "name": "stderr",
     "output_type": "stream",
     "text": [
      "Some weights of BertModel were not initialized from the model checkpoint at dccuchile/bert-base-spanish-wwm-cased and are newly initialized: ['bert.pooler.dense.weight', 'bert.pooler.dense.bias']\n",
      "You should probably TRAIN this model on a down-stream task to be able to use it for predictions and inference.\n"
     ]
    }
   ],
   "source": [
    "#Create the tokenizer and the model (BETO in this case).\n",
    "from transformers import BertModel, BertTokenizer\n",
    "\n",
    "model = BertModel.from_pretrained('dccuchile/bert-base-spanish-wwm-cased',\n",
    "                                  output_attentions = False, # Whether the model returns attentions weights\n",
    "                                  output_hidden_states = False)\n",
    "model.cuda()\n",
    "\n",
    "tokenizer = BertTokenizer.from_pretrained('dccuchile/bert-base-spanish-wwm-cased')"
   ]
  },
  {
   "cell_type": "code",
   "execution_count": 5,
   "metadata": {},
   "outputs": [],
   "source": [
    "#Tokenize all of the sentences and map the tokens to their word IDs.\n",
    "opiniones = df['Opinion'].values\n",
    "\n",
    "input_ids = []\n",
    "attention_masks = []\n",
    "\n",
    "for opinion in opiniones:\n",
    "    # `encode_plus` will:\n",
    "    #   (1) Tokenize the sentence.\n",
    "    #   (2) Prepend the `[CLS]` token to the start.\n",
    "    #   (3) Append the `[SEP]` token to the end.\n",
    "    #   (4) Map tokens to their IDs.\n",
    "    #   (5) Pad or truncate the sentence to `max_length`\n",
    "    #   (6) Create attention masks for [PAD] tokens.\n",
    "    encoded_dict = tokenizer.encode_plus(\n",
    "                        opinion,                   #Sentence to encode.\n",
    "                        add_special_tokens = True, #Add '[CLS]' and '[SEP]'\n",
    "                        max_length = 128,           #Pad & truncate all sentences.\n",
    "                        truncation = True,\n",
    "                        padding='max_length',\n",
    "                        return_attention_mask = True,  #Construct attention masks.\n",
    "                        return_tensors = 'pt',     #Return pytorch tensors.\n",
    "                        verbose = True #Print more information and warnings.\n",
    "                   )\n",
    "    \n",
    "    #Add the encoded sentence to the list.\n",
    "    input_ids.append(encoded_dict['input_ids'])\n",
    "    \n",
    "    #And its attention mask (simply differentiates padding from non-padding).\n",
    "    attention_masks.append(encoded_dict['attention_mask'])\n",
    "\n",
    "#Convert the lists into tensors.\n",
    "input_ids = torch.cat(input_ids, dim=0)\n",
    "attention_masks = torch.cat(attention_masks, dim=0)"
   ]
  },
  {
   "cell_type": "code",
   "execution_count": 7,
   "metadata": {},
   "outputs": [],
   "source": [
    "#Create a Dataloader for training the model with the tensors created above.\n",
    "from torch.utils.data import TensorDataset\n",
    "from torch.utils.data import DataLoader, SequentialSampler\n",
    "\n",
    "#Combine the training inputs into a TensorDataset.\n",
    "dataset = TensorDataset(input_ids, attention_masks)\n",
    "dataloader = DataLoader(\n",
    "            dataset,  #The training samples.\n",
    "            sampler = SequentialSampler(dataset), #Select batches sequentially.\n",
    "            batch_size = 128 #Trains with this batch size.\n",
    "        )"
   ]
  },
  {
   "cell_type": "code",
   "execution_count": 9,
   "metadata": {},
   "outputs": [],
   "source": [
    "#Set the model into training mode.\n",
    "model.train()\n",
    "\n",
    "#Training loop. Passes the input ids and the attention masks to the model.\n",
    "for step, batch in enumerate(dataloader):\n",
    "        input_ids = batch[0].to(device)\n",
    "        attention_mask = batch[1].to(device)\n",
    "        outputs = model(input_ids, \n",
    "                       token_type_ids=None, \n",
    "                       attention_mask=attention_mask, \n",
    "                       return_dict=True)"
   ]
  },
  {
   "cell_type": "code",
   "execution_count": 10,
   "metadata": {},
   "outputs": [],
   "source": [
    "#Create an object that contains the outputs at the last layer of the trained BETO model.\n",
    "last_hidden_states = outputs.last_hidden_state"
   ]
  },
  {
   "cell_type": "code",
   "execution_count": 23,
   "metadata": {},
   "outputs": [
    {
     "data": {
      "text/plain": [
       "torch.Size([22, 128, 768])"
      ]
     },
     "execution_count": 23,
     "metadata": {},
     "output_type": "execute_result"
    }
   ],
   "source": [
    "last_hidden_states.size()"
   ]
  },
  {
   "cell_type": "code",
   "execution_count": 16,
   "metadata": {},
   "outputs": [
    {
     "data": {
      "text/plain": [
       "0.3220473825931549"
      ]
     },
     "execution_count": 16,
     "metadata": {},
     "output_type": "execute_result"
    }
   ],
   "source": [
    "#Get the value of the CLS token. \n",
    "#This value contains all the sentence at the position 0.\n",
    "last_hidden_states[0][0][0].item()"
   ]
  },
  {
   "attachments": {
    "emebedding.png": {
     "image/png": "[encoded data removed]"
    }
   },
   "cell_type": "markdown",
   "metadata": {},
   "source": [
    "![emebedding.png](attachment:emebedding.png)"
   ]
  },
  {
   "cell_type": "markdown",
   "metadata": {},
   "source": [
    "https://stackoverflow.com/questions/63040954/how-to-extract-and-use-bert-encodings-of-sentences-for-text-similarity-among-sen"
   ]
  },
  {
   "cell_type": "markdown",
   "metadata": {},
   "source": [
    "### Notas:\n",
    "Mi duda aquí es: una vez ya teniendo un objeto (last_hidden_state) con los valores de cada oración en el dataset, no estoy seguro si ese número es el que debo concatenar a los vectores obtenidos en la sección 1 (vector_tfidf).\n",
    "Yo me imagino que sí (por esto que encontré y adjunté de StackOverflow --aunque esta no sea una tarea de calcular similitud de coseno, pero sí de obtener word embeddings con BETO), pero no me queda aún 100% claro. \n",
    "\n",
    "Tampoco me quedan muy claras las dimensiones de last_hidden_states. Entiendo, por la documentación de huggingface (https://huggingface.co/transformers/model_doc/bert.html#bertmodel) que el 22 es `batch_size` y el 128 es la longitud de la secuencia, pero no me queda muy claro cómo esas dimensiones se corresponden con las (12182, 16377) del `vector_tfidf` (esas sí entiendo que son el número de opiniones --longitud 128-- y los valores numéricos creados para representarlas).\n",
    "\n",
    "Si sí, entonces ya sólo sería cosa de pegar los outputs de la sección 1 con la sección 2, y pasar eso al BertForSequenceClassification() como lo hice en los experimentos anteriores."
   ]
  }
 ],
 "metadata": {
  "kernelspec": {
   "display_name": "sentiment_analysis",
   "language": "python",
   "name": "sentiment_analysis"
  },
  "language_info": {
   "codemirror_mode": {
    "name": "ipython",
    "version": 3
   },
   "file_extension": ".py",
   "mimetype": "text/x-python",
   "name": "python",
   "nbconvert_exporter": "python",
   "pygments_lexer": "ipython3",
   "version": "3.7.6"
  }
 },
 "nbformat": 4,
 "nbformat_minor": 4
}
