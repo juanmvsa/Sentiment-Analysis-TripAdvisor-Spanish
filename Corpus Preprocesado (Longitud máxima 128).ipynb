{
 "cells": [
  {
   "cell_type": "markdown",
   "metadata": {},
   "source": [
    "# 1. Load the official dataset"
   ]
  },
  {
   "cell_type": "code",
   "execution_count": 1,
   "metadata": {},
   "outputs": [
    {
     "data": {
      "text/plain": [
       "(5194, 2)"
      ]
     },
     "execution_count": 1,
     "metadata": {},
     "output_type": "execute_result"
    }
   ],
   "source": [
    "# Load the official dataset\n",
    "import pandas as pd\n",
    "\n",
    "df_oficiales = pd.read_csv('/001/usuarios/juanmvs/anaconda3/NLP/Datos/DatosOficiales.csv')\n",
    "df_oficiales = df_oficiales.drop(columns=['Unnamed: 0', 'Title', 'Place', 'Gender', 'Age', 'Country', 'Date'])\n",
    "df_oficiales['Label'] = df_oficiales['Label'].replace([1,2,3,4,5], [0,1,2,3,4])\n",
    "df_oficiales.shape"
   ]
  },
  {
   "cell_type": "code",
   "execution_count": 2,
   "metadata": {},
   "outputs": [],
   "source": [
    "# Function for removing quotes \n",
    "def remove_quotes(dataframe):\n",
    "    nw = []\n",
    "    for op in dataframe['Opinion']:\n",
    "        nw.append(op.strip('\"'))\n",
    "    dataframe['Opinion'] = nw"
   ]
  },
  {
   "cell_type": "code",
   "execution_count": 3,
   "metadata": {},
   "outputs": [],
   "source": [
    "# Remove the quotes in the reviews\n",
    "remove_quotes(df_oficiales)"
   ]
  },
  {
   "cell_type": "code",
   "execution_count": 4,
   "metadata": {},
   "outputs": [
    {
     "name": "stdout",
     "output_type": "stream",
     "text": [
      "3769\n"
     ]
    }
   ],
   "source": [
    "# Check the max length of the reviews in the dataset\n",
    "arr = []\n",
    "for op in df_oficiales['Opinion']:\n",
    "    mx = arr.append(len(op))\n",
    "print(max(arr))"
   ]
  },
  {
   "cell_type": "code",
   "execution_count": 5,
   "metadata": {},
   "outputs": [],
   "source": [
    "# Split the reviews into longer and smaller than len(128)\n",
    "longer128 = []\n",
    "smaller128 = []\n",
    "\n",
    "for op in df_oficiales['Opinion']:\n",
    "    if(len(op)>128):\n",
    "        longer128.append(op)\n",
    "        \n",
    "#for op in df0['Opinion']:\n",
    "for op in df_oficiales['Opinion']:\n",
    "    if(len(op)<=128):\n",
    "        smaller128.append(op)"
   ]
  },
  {
   "cell_type": "code",
   "execution_count": 6,
   "metadata": {},
   "outputs": [
    {
     "name": "stdout",
     "output_type": "stream",
     "text": [
      "964 reviews in the dataset are shorter or equal to 128 characters.\n"
     ]
    }
   ],
   "source": [
    "# Check how many reviews are shorter than 128 characters\n",
    "print(len(smaller128), \"reviews in the dataset are shorter or equal to 128 characters.\")"
   ]
  },
  {
   "cell_type": "code",
   "execution_count": 7,
   "metadata": {},
   "outputs": [
    {
     "name": "stdout",
     "output_type": "stream",
     "text": [
      "4230 reviews in the dataset are longer than 128 characters.\n"
     ]
    }
   ],
   "source": [
    "print(len(longer128), \"reviews in the dataset are longer than 128 characters.\")"
   ]
  },
  {
   "cell_type": "code",
   "execution_count": 8,
   "metadata": {},
   "outputs": [],
   "source": [
    "# Split the reviews into chunks of (len)<=128\n",
    "from io import StringIO\n",
    "\n",
    "empty_list = []\n",
    "for opinion in df_oficiales['Opinion']:\n",
    "    string = StringIO(opinion)\n",
    "    empty_list.append(list(iter(lambda: string.read(128), '')))"
   ]
  },
  {
   "cell_type": "code",
   "execution_count": 9,
   "metadata": {},
   "outputs": [],
   "source": [
    "#flatten the 2d list \n",
    "flat = [j for sub in empty_list for j in sub]"
   ]
  },
  {
   "cell_type": "code",
   "execution_count": 10,
   "metadata": {},
   "outputs": [],
   "source": [
    "# Create the new dataset. Each row contains a review <= 128 characters.\n",
    "df = pd.DataFrame(flat, columns=['Opinion'])"
   ]
  },
  {
   "cell_type": "code",
   "execution_count": 11,
   "metadata": {},
   "outputs": [
    {
     "name": "stdout",
     "output_type": "stream",
     "text": [
      "The new DataFrame has 12182 reviews (one review per row). Each review has a length <= 128.\n"
     ]
    }
   ],
   "source": [
    "num = df.shape[0]\n",
    "print(\"The new DataFrame has\", num, \"reviews (one review per row). Each review has a length <= 128.\")"
   ]
  },
  {
   "cell_type": "markdown",
   "metadata": {},
   "source": [
    "# 2. Adding the labels"
   ]
  },
  {
   "cell_type": "code",
   "execution_count": 12,
   "metadata": {},
   "outputs": [
    {
     "data": {
      "text/plain": [
       "4    2688\n",
       "3    1595\n",
       "2     686\n",
       "1     145\n",
       "0      80\n",
       "Name: Label, dtype: int64"
      ]
     },
     "execution_count": 12,
     "metadata": {},
     "output_type": "execute_result"
    }
   ],
   "source": [
    "# Check the distribution of the labels in the original dataset\n",
    "df_oficiales['Label'].value_counts()"
   ]
  },
  {
   "cell_type": "markdown",
   "metadata": {},
   "source": [
    "In order to add the labels to the unlabeled chunks:\n",
    "- First: Get the indexes where each label begins.\n",
    "- Second: Create five lists, each one containing the values of the five labels. These lists will have a size proportional to the original dataset, but adjusting for the newly created dataset that contains reviews no longer than 128 characters.\n",
    "- Finally: Paste those five lists in a new column of the DataFrame that contains the reviews with len <= 128.\n",
    "\n",
    "* Note: This can be done as described above thanks to the fact that the reviews are ordered in ascending order to their labels. So, the rows go from label0 -> label1 -> ... -> label4."
   ]
  },
  {
   "cell_type": "code",
   "execution_count": 13,
   "metadata": {},
   "outputs": [
    {
     "data": {
      "text/plain": [
       "'Un callejón estrecho, sin más ni más, con \"\"\"\"guías\"\"\" \\ninsistiendo en contarte la historia del callejón por una \\nmódica propina, y el lugar a rebentar de gente esperando\\npara hacer una foto imposible.'"
      ]
     },
     "execution_count": 13,
     "metadata": {},
     "output_type": "execute_result"
    }
   ],
   "source": [
    "# Label 1 begins at this index\n",
    "df_oficiales['Opinion'][80] "
   ]
  },
  {
   "cell_type": "code",
   "execution_count": 14,
   "metadata": {},
   "outputs": [
    {
     "data": {
      "text/plain": [
       "'Pasé varias veces por allí sin darme cuenta que este era el callejón. Lo más bonito es la historia, puesto que si bien el lugar es pintoresco, y los balcones parecen de un cuento de hadas, por como se lo ve en la ciudad parecería estar un poco sobredimensionado. De todas formas, no lleva mucho tiempo verlo, estando en Guanajuato hay que ir si o si.'"
      ]
     },
     "execution_count": 14,
     "metadata": {},
     "output_type": "execute_result"
    }
   ],
   "source": [
    "# Label 2 begins at this index\n",
    "df_oficiales['Opinion'][80+145] "
   ]
  },
  {
   "cell_type": "code",
   "execution_count": 15,
   "metadata": {},
   "outputs": [
    {
     "data": {
      "text/plain": [
       "'Una visita tradicional, por la popularidad mundial que tienen, sin embargo hay que preguntarse ¿Qué es de entretenido visitar 22 cadáveres momificados? En lo personal y muy en lo personal es una experiencia diferente al imaginarse a estas personas encapsuladas en sus cuerpos con remanentes de épocas pasadas, nos dan una idea de la vida que en ese tiempo afrontaron y finalmente sucumbieron a ella, en mi opinión es un viaje de ida y nada más.'"
      ]
     },
     "execution_count": 15,
     "metadata": {},
     "output_type": "execute_result"
    }
   ],
   "source": [
    "# Label 3 begins at this index\n",
    "df_oficiales['Opinion'][80+145+686]"
   ]
  },
  {
   "cell_type": "code",
   "execution_count": 16,
   "metadata": {},
   "outputs": [
    {
     "data": {
      "text/plain": [
       "'Callejón con historia, parada obligatoria si vas en pareja, \\nademás de que es un muy bonito recuerdo'"
      ]
     },
     "execution_count": 16,
     "metadata": {},
     "output_type": "execute_result"
    }
   ],
   "source": [
    "# Label 4 begins at this index\n",
    "df_oficiales['Opinion'][80+145+686+1595] "
   ]
  },
  {
   "cell_type": "code",
   "execution_count": 17,
   "metadata": {},
   "outputs": [
    {
     "data": {
      "text/html": [
       "<div>\n",
       "<style scoped>\n",
       "    .dataframe tbody tr th:only-of-type {\n",
       "        vertical-align: middle;\n",
       "    }\n",
       "\n",
       "    .dataframe tbody tr th {\n",
       "        vertical-align: top;\n",
       "    }\n",
       "\n",
       "    .dataframe thead th {\n",
       "        text-align: right;\n",
       "    }\n",
       "</style>\n",
       "<table border=\"1\" class=\"dataframe\">\n",
       "  <thead>\n",
       "    <tr style=\"text-align: right;\">\n",
       "      <th></th>\n",
       "      <th>Opinion</th>\n",
       "    </tr>\n",
       "  </thead>\n",
       "  <tbody>\n",
       "    <tr>\n",
       "      <th>217</th>\n",
       "      <td>Un callejón estrecho, sin más ni más, con \"\"\"\"...</td>\n",
       "    </tr>\n",
       "  </tbody>\n",
       "</table>\n",
       "</div>"
      ],
      "text/plain": [
       "                                               Opinion\n",
       "217  Un callejón estrecho, sin más ni más, con \"\"\"\"..."
      ]
     },
     "execution_count": 17,
     "metadata": {},
     "output_type": "execute_result"
    }
   ],
   "source": [
    "# Get the index of the first review with label 1\n",
    "df[df['Opinion'].str.match('Un callejón estrecho, sin más ni más')]"
   ]
  },
  {
   "cell_type": "code",
   "execution_count": 18,
   "metadata": {},
   "outputs": [
    {
     "data": {
      "text/html": [
       "<div>\n",
       "<style scoped>\n",
       "    .dataframe tbody tr th:only-of-type {\n",
       "        vertical-align: middle;\n",
       "    }\n",
       "\n",
       "    .dataframe tbody tr th {\n",
       "        vertical-align: top;\n",
       "    }\n",
       "\n",
       "    .dataframe thead th {\n",
       "        text-align: right;\n",
       "    }\n",
       "</style>\n",
       "<table border=\"1\" class=\"dataframe\">\n",
       "  <thead>\n",
       "    <tr style=\"text-align: right;\">\n",
       "      <th></th>\n",
       "      <th>Opinion</th>\n",
       "    </tr>\n",
       "  </thead>\n",
       "  <tbody>\n",
       "    <tr>\n",
       "      <th>631</th>\n",
       "      <td>Pasé varias veces por allí sin darme cuenta qu...</td>\n",
       "    </tr>\n",
       "  </tbody>\n",
       "</table>\n",
       "</div>"
      ],
      "text/plain": [
       "                                               Opinion\n",
       "631  Pasé varias veces por allí sin darme cuenta qu..."
      ]
     },
     "execution_count": 18,
     "metadata": {},
     "output_type": "execute_result"
    }
   ],
   "source": [
    "# Get the index of the first review with label 2\n",
    "df[df['Opinion'].str.match('Pasé varias veces por allí sin darme cuenta que este era el callejón.')]"
   ]
  },
  {
   "cell_type": "code",
   "execution_count": 19,
   "metadata": {},
   "outputs": [
    {
     "data": {
      "text/html": [
       "<div>\n",
       "<style scoped>\n",
       "    .dataframe tbody tr th:only-of-type {\n",
       "        vertical-align: middle;\n",
       "    }\n",
       "\n",
       "    .dataframe tbody tr th {\n",
       "        vertical-align: top;\n",
       "    }\n",
       "\n",
       "    .dataframe thead th {\n",
       "        text-align: right;\n",
       "    }\n",
       "</style>\n",
       "<table border=\"1\" class=\"dataframe\">\n",
       "  <thead>\n",
       "    <tr style=\"text-align: right;\">\n",
       "      <th></th>\n",
       "      <th>Opinion</th>\n",
       "    </tr>\n",
       "  </thead>\n",
       "  <tbody>\n",
       "    <tr>\n",
       "      <th>2381</th>\n",
       "      <td>Una visita tradicional, por la popularidad mun...</td>\n",
       "    </tr>\n",
       "  </tbody>\n",
       "</table>\n",
       "</div>"
      ],
      "text/plain": [
       "                                                Opinion\n",
       "2381  Una visita tradicional, por la popularidad mun..."
      ]
     },
     "execution_count": 19,
     "metadata": {},
     "output_type": "execute_result"
    }
   ],
   "source": [
    "# Get the index of the first review with label 3\n",
    "df[df['Opinion'].str.match('Una visita tradicional, por la popularidad mundial que tienen, sin embargo hay que preguntarse ¿Qué es')]"
   ]
  },
  {
   "cell_type": "code",
   "execution_count": 20,
   "metadata": {},
   "outputs": [
    {
     "data": {
      "text/html": [
       "<div>\n",
       "<style scoped>\n",
       "    .dataframe tbody tr th:only-of-type {\n",
       "        vertical-align: middle;\n",
       "    }\n",
       "\n",
       "    .dataframe tbody tr th {\n",
       "        vertical-align: top;\n",
       "    }\n",
       "\n",
       "    .dataframe thead th {\n",
       "        text-align: right;\n",
       "    }\n",
       "</style>\n",
       "<table border=\"1\" class=\"dataframe\">\n",
       "  <thead>\n",
       "    <tr style=\"text-align: right;\">\n",
       "      <th></th>\n",
       "      <th>Opinion</th>\n",
       "    </tr>\n",
       "  </thead>\n",
       "  <tbody>\n",
       "    <tr>\n",
       "      <th>6206</th>\n",
       "      <td>Callejón con historia, parada obligatoria si v...</td>\n",
       "    </tr>\n",
       "  </tbody>\n",
       "</table>\n",
       "</div>"
      ],
      "text/plain": [
       "                                                Opinion\n",
       "6206  Callejón con historia, parada obligatoria si v..."
      ]
     },
     "execution_count": 20,
     "metadata": {},
     "output_type": "execute_result"
    }
   ],
   "source": [
    "# Get the index of the first review with label 4\n",
    "df[df['Opinion'].str.match('Callejón con historia, parada ')]"
   ]
  },
  {
   "cell_type": "code",
   "execution_count": 21,
   "metadata": {},
   "outputs": [],
   "source": [
    "# Create five lists of integers containing the labels that correspond to the chopped reviews\n",
    "label0 = [0 for i in range(216)]\n",
    "label1 = [1 for i in range(413)]\n",
    "label2 = [2 for i in range(1750)]  \n",
    "label3 = [3 for i in range(3825)]\n",
    "label4 = [4 for i in range(5977)]"
   ]
  },
  {
   "cell_type": "markdown",
   "metadata": {},
   "source": [
    "The following lines add the five lists one by one. This was done in order to check manually that the indexes were matching."
   ]
  },
  {
   "cell_type": "code",
   "execution_count": 22,
   "metadata": {},
   "outputs": [],
   "source": [
    "# add the list with the labels 0 \n",
    "labels = label1.append(label2)"
   ]
  },
  {
   "cell_type": "code",
   "execution_count": 23,
   "metadata": {},
   "outputs": [
    {
     "data": {
      "text/plain": [
       "630"
      ]
     },
     "execution_count": 23,
     "metadata": {},
     "output_type": "execute_result"
    }
   ],
   "source": [
    "labelsx = [y for x in [label0, label1] for y in x]\n",
    "len(labelsx)"
   ]
  },
  {
   "cell_type": "code",
   "execution_count": 24,
   "metadata": {},
   "outputs": [
    {
     "data": {
      "text/plain": [
       "5575"
      ]
     },
     "execution_count": 24,
     "metadata": {},
     "output_type": "execute_result"
    }
   ],
   "source": [
    "labelsy = [y for x in [label2, label3] for y in x]\n",
    "len(labelsy)"
   ]
  },
  {
   "cell_type": "code",
   "execution_count": 25,
   "metadata": {},
   "outputs": [
    {
     "data": {
      "text/plain": [
       "6205"
      ]
     },
     "execution_count": 25,
     "metadata": {},
     "output_type": "execute_result"
    }
   ],
   "source": [
    "labelsz = [y for x in [labelsx, labelsy] for y in x]\n",
    "len(labelsz)"
   ]
  },
  {
   "cell_type": "code",
   "execution_count": 26,
   "metadata": {},
   "outputs": [
    {
     "data": {
      "text/plain": [
       "12182"
      ]
     },
     "execution_count": 26,
     "metadata": {},
     "output_type": "execute_result"
    }
   ],
   "source": [
    "labels = [y for x in [labelsz, label4] for y in x]\n",
    "len(labels)"
   ]
  },
  {
   "cell_type": "code",
   "execution_count": 27,
   "metadata": {},
   "outputs": [
    {
     "data": {
      "text/html": [
       "<div>\n",
       "<style scoped>\n",
       "    .dataframe tbody tr th:only-of-type {\n",
       "        vertical-align: middle;\n",
       "    }\n",
       "\n",
       "    .dataframe tbody tr th {\n",
       "        vertical-align: top;\n",
       "    }\n",
       "\n",
       "    .dataframe thead th {\n",
       "        text-align: right;\n",
       "    }\n",
       "</style>\n",
       "<table border=\"1\" class=\"dataframe\">\n",
       "  <thead>\n",
       "    <tr style=\"text-align: right;\">\n",
       "      <th></th>\n",
       "      <th>Opinion</th>\n",
       "      <th>Labels</th>\n",
       "    </tr>\n",
       "  </thead>\n",
       "  <tbody>\n",
       "    <tr>\n",
       "      <th>0</th>\n",
       "      <td>Las momias están en muy buen estado de conserv...</td>\n",
       "      <td>0</td>\n",
       "    </tr>\n",
       "    <tr>\n",
       "      <th>1</th>\n",
       "      <td>mi grupo quedó negativamente impresionado. Al...</td>\n",
       "      <td>0</td>\n",
       "    </tr>\n",
       "    <tr>\n",
       "      <th>2</th>\n",
       "      <td>on grabadas en lo profundo de las mentes de qu...</td>\n",
       "      <td>0</td>\n",
       "    </tr>\n",
       "    <tr>\n",
       "      <th>3</th>\n",
       "      <td>s con ganas de vomitar y espantados. Absolutam...</td>\n",
       "      <td>0</td>\n",
       "    </tr>\n",
       "    <tr>\n",
       "      <th>4</th>\n",
       "      <td>do los muertos, los espantos y los entierros.....</td>\n",
       "      <td>0</td>\n",
       "    </tr>\n",
       "    <tr>\n",
       "      <th>...</th>\n",
       "      <td>...</td>\n",
       "      <td>...</td>\n",
       "    </tr>\n",
       "    <tr>\n",
       "      <th>12177</th>\n",
       "      <td>minada.</td>\n",
       "      <td>4</td>\n",
       "    </tr>\n",
       "    <tr>\n",
       "      <th>12178</th>\n",
       "      <td>Es imperdible, de ahí puedes ver muy bien la c...</td>\n",
       "      <td>4</td>\n",
       "    </tr>\n",
       "    <tr>\n",
       "      <th>12179</th>\n",
       "      <td>hace parte de la aventura montarlo porque se ...</td>\n",
       "      <td>4</td>\n",
       "    </tr>\n",
       "    <tr>\n",
       "      <th>12180</th>\n",
       "      <td>Queda detrás del Teatro Juárez. Ir allí camina...</td>\n",
       "      <td>4</td>\n",
       "    </tr>\n",
       "    <tr>\n",
       "      <th>12181</th>\n",
       "      <td>No te puedes ir de Guanajuato sin visitarlo......</td>\n",
       "      <td>4</td>\n",
       "    </tr>\n",
       "  </tbody>\n",
       "</table>\n",
       "<p>12182 rows × 2 columns</p>\n",
       "</div>"
      ],
      "text/plain": [
       "                                                 Opinion Labels\n",
       "0      Las momias están en muy buen estado de conserv...      0\n",
       "1       mi grupo quedó negativamente impresionado. Al...      0\n",
       "2      on grabadas en lo profundo de las mentes de qu...      0\n",
       "3      s con ganas de vomitar y espantados. Absolutam...      0\n",
       "4      do los muertos, los espantos y los entierros.....      0\n",
       "...                                                  ...    ...\n",
       "12177                                            minada.      4\n",
       "12178  Es imperdible, de ahí puedes ver muy bien la c...      4\n",
       "12179   hace parte de la aventura montarlo porque se ...      4\n",
       "12180  Queda detrás del Teatro Juárez. Ir allí camina...      4\n",
       "12181  No te puedes ir de Guanajuato sin visitarlo......      4\n",
       "\n",
       "[12182 rows x 2 columns]"
      ]
     },
     "execution_count": 27,
     "metadata": {},
     "output_type": "execute_result"
    }
   ],
   "source": [
    "# Finally add the list of labels to the newly created DataFrame \n",
    "df['Labels'] = labels\n",
    "df"
   ]
  },
  {
   "cell_type": "code",
   "execution_count": null,
   "metadata": {},
   "outputs": [],
   "source": [
    "# Export this DataFrame as a csv file\n",
    "df.to_csv('Corpus128.csv')"
   ]
  }
 ],
 "metadata": {
  "kernelspec": {
   "display_name": "sentiment_analysis",
   "language": "python",
   "name": "sentiment_analysis"
  },
  "language_info": {
   "codemirror_mode": {
    "name": "ipython",
    "version": 3
   },
   "file_extension": ".py",
   "mimetype": "text/x-python",
   "name": "python",
   "nbconvert_exporter": "python",
   "pygments_lexer": "ipython3",
   "version": "3.7.6"
  }
 },
 "nbformat": 4,
 "nbformat_minor": 4
}
